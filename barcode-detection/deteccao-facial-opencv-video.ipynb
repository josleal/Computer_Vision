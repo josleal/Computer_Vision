{
 "cells": [
  {
   "cell_type": "markdown",
   "id": "b4ab4e13",
   "metadata": {},
   "source": [
    "## DETECÇÃO DE FACES COM REDE NEURAL ARTIFICIAL\n",
    "\n",
    "<div style=\"text-align: justify;\">\n",
    "\n",
    "### INTRODUÇÃO\n",
    "Este mini projeto apresenta um script básico para detecção de faces em vídeo utilizando um modelo pré-treinado da biblioteca OpenCV. O modelo utilizado foi o **Caffe**. A detecção foi realizada em tempo real e exibida na tela para demonstração.\n",
    "\n",
    "\n",
    "### BIBLIOTECAS UTILIZADAS\n",
    "- **cv2**: Biblioteca OpenCV para visão computacional;\n",
    "- **matplotlib**: Biblioteca para criação de visualização estática, animada e interativa;\n",
    "- **numpy**: Biblioteca de computação científica;\n",
    "- **time**: Biblioteca para obter valores de tempo;\n",
    "- **os**: Biblioteca que permite melhor interação com o sistema operacional.\n",
    "    \n",
    "    \n",
    "---\n"
   ]
  },
  {
   "cell_type": "code",
   "execution_count": 1,
   "id": "54a5857f-e6b2-411c-a5f5-fa643ab6849e",
   "metadata": {},
   "outputs": [
    {
     "data": {
      "text/html": [
       "\n",
       "<iframe width=\"640\" height=\"360\" src=\"https://www.youtube.com/embed/Aa7s1TX-vgo?si=eotDx7M7VgGk8c8z\" \n",
       "frameborder=\"0\" allowfullscreen></iframe>\n"
      ],
      "text/plain": [
       "<IPython.core.display.HTML object>"
      ]
     },
     "execution_count": 1,
     "metadata": {},
     "output_type": "execute_result"
    }
   ],
   "source": [
    "# RESULTADO DA DETECÇÃO\n",
    "from IPython.display import HTML\n",
    "HTML(\"\"\"\n",
    "<iframe width=\"640\" height=\"360\" src=\"https://www.youtube.com/embed/Aa7s1TX-vgo?si=eotDx7M7VgGk8c8z\" \n",
    "frameborder=\"0\" allowfullscreen></iframe>\n",
    "\"\"\")"
   ]
  },
  {
   "cell_type": "code",
   "execution_count": 2,
   "id": "5bee3039-18eb-497a-87c2-318579f28bab",
   "metadata": {},
   "outputs": [],
   "source": [
    "# IMPORTAR BIBLIOTECAS\n",
    "import cv2\n",
    "import matplotlib.pyplot as plt\n",
    "import numpy as np\n",
    "import time\n",
    "import os"
   ]
  },
  {
   "cell_type": "code",
   "execution_count": null,
   "id": "ff2f71a7",
   "metadata": {},
   "outputs": [],
   "source": [
    "# OPÇÃO 1 - CAPTURAR PELA WEBCAM DO COMPUTADOR\n",
    "captura = cv2.VideoCapture(1) # Câmera 2"
   ]
  },
  {
   "cell_type": "code",
   "execution_count": 3,
   "id": "7dfdcdbc-ce28-4bdd-82c1-cb43a2adb499",
   "metadata": {},
   "outputs": [],
   "source": [
    "# OPÇÃO 2 - CAPTURAR PELA CÂMERA DO CELULAR\n",
    "captura = cv2.VideoCapture()"
   ]
  },
  {
   "cell_type": "code",
   "execution_count": 4,
   "id": "4ab13ec0-4bed-4d0c-b400-1500d9c75d25",
   "metadata": {},
   "outputs": [
    {
     "data": {
      "text/plain": [
       "True"
      ]
     },
     "execution_count": 4,
     "metadata": {},
     "output_type": "execute_result"
    }
   ],
   "source": [
    "# PARA CAPTURA USANDO A CÂMERA DO CELULAR\n",
    "ip = \"https://SeuIPaqui/video\"\n",
    "captura.open(ip)"
   ]
  },
  {
   "cell_type": "code",
   "execution_count": 5,
   "id": "eae1f424",
   "metadata": {},
   "outputs": [],
   "source": [
    "# REDE NEURAL\n",
    "network = cv2.dnn.readNetFromCaffe(\"deploy.prototxt.txt\", \"res10_300x300_ssd_iter_140000.caffemodel\")"
   ]
  },
  {
   "cell_type": "code",
   "execution_count": 6,
   "id": "3f07a738",
   "metadata": {},
   "outputs": [],
   "source": [
    "conf_min = 0.7\n",
    "show_conf = True"
   ]
  },
  {
   "cell_type": "code",
   "execution_count": 7,
   "id": "38005ce2-0a4e-4b3d-9a4b-236d24243f7e",
   "metadata": {},
   "outputs": [],
   "source": [
    "# MANTER CÂMERA ABERTA\n",
    "while True:\n",
    "    # VÍDEO\n",
    "    retorno, frame = captura.read()\n",
    "    if not retorno:\n",
    "        print(\"Falha ao capturar imagem da câmera.\")\n",
    "        break\n",
    "    \n",
    "    # CÓDIGO\n",
    "    (h, w) = frame.shape[:2]\n",
    "    blob = cv2.dnn.blobFromImage(cv2.resize(frame, (300, 300)), 1.0, (300, 300), (104.0, 117.0, 123.0))\n",
    "    network.setInput(blob)\n",
    "    detections = network.forward()\n",
    "\n",
    "    for i in range(0, detections.shape[2]):\n",
    "        confidence = detections[0, 0, i, 2]\n",
    "       \n",
    "        if confidence > conf_min:\n",
    "            bbox = detections[0, 0, i, 3:7] * np.array([w, h, w, h])\n",
    "            (start_x, start_y, end_x, end_y) = bbox.astype(\"int\")\n",
    "\n",
    "         \n",
    "            cv2.rectangle(frame, (start_x, start_y), (end_x, end_y), (0, 255, 0), 2)\n",
    "            if show_conf:\n",
    "                text_conf = \"{:.2f}%\".format(confidence * 100)\n",
    "                cv2.putText(frame, text_conf, (start_x, start_y - 10), cv2.FONT_HERSHEY_SIMPLEX, 0.5, (0, 255, 0), 2)\n",
    "                \n",
    "    # VISUALIZAR \n",
    "    cv2.imshow('Face', frame)\n",
    "\n",
    "    # COMANDO PARA FINALIZAR VÍDEO\n",
    "    chave = cv2.waitKey(1)\n",
    "    if chave == 27: #TECLA 27 -> ESC  \n",
    "        break\n",
    "        \n",
    "captura.release()\n",
    "cv2.destroyAllWindows()"
   ]
  },
  {
   "cell_type": "code",
   "execution_count": null,
   "id": "d040e466",
   "metadata": {},
   "outputs": [],
   "source": []
  }
 ],
 "metadata": {
  "kernelspec": {
   "display_name": "Python 3 (ipykernel)",
   "language": "python",
   "name": "python3"
  },
  "language_info": {
   "codemirror_mode": {
    "name": "ipython",
    "version": 3
   },
   "file_extension": ".py",
   "mimetype": "text/x-python",
   "name": "python",
   "nbconvert_exporter": "python",
   "pygments_lexer": "ipython3",
   "version": "3.10.9"
  }
 },
 "nbformat": 4,
 "nbformat_minor": 5
}
