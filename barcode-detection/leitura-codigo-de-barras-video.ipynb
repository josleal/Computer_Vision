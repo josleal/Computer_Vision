{
 "cells": [
  {
   "cell_type": "markdown",
   "id": "015bbedf",
   "metadata": {},
   "source": [
    "## DETECÇÃO DE CÓDIGO DE BARRAS\n",
    "\n",
    "<div style=\"text-align: justify;\">\n",
    "\n",
    "### INTRODUÇÃO\n",
    "Este mini projeto apresenta um script básico para detecção de códigos de barras em vídeo utilizando a biblioteca **pyzbar**. A aplicação captura frames em tempo real, detecta códigos de barras e exibe os dados decodificados na tela.\n",
    "\n",
    "\n",
    "### BIBLIOTECAS UTILIZADAS\n",
    "- **PIL**: Biblioteca para processamento de imagens;\n",
    "- **pyzbar**: Realiza leitura de códigos de barras e QR Codes;\n",
    "- **cv2**: Biblioteca OpenCV para visão computacional;\n",
    "- **numpy**: Biblioteca de computação científica.\n",
    "    \n",
    "---\n"
   ]
  },
  {
   "cell_type": "code",
   "execution_count": 1,
   "id": "1938842a",
   "metadata": {},
   "outputs": [
    {
     "data": {
      "text/html": [
       "\n",
       "<iframe width=\"640\" height=\"360\" src=\"https://www.youtube.com/embed/LQNO6wS0elU?si=P2vrUTR63ZHaMT2S\" \n",
       "frameborder=\"0\" allowfullscreen></iframe>\n"
      ],
      "text/plain": [
       "<IPython.core.display.HTML object>"
      ]
     },
     "execution_count": 1,
     "metadata": {},
     "output_type": "execute_result"
    }
   ],
   "source": [
    "# RESULTADO DA DETECÇÃO\n",
    "from IPython.display import HTML\n",
    "HTML(\"\"\"\n",
    "<iframe width=\"640\" height=\"360\" src=\"https://www.youtube.com/embed/LQNO6wS0elU?si=P2vrUTR63ZHaMT2S\" \n",
    "frameborder=\"0\" allowfullscreen></iframe>\n",
    "\"\"\")"
   ]
  },
  {
   "cell_type": "code",
   "execution_count": 2,
   "id": "935d2319-05ad-4794-b259-917c327ffc3e",
   "metadata": {},
   "outputs": [],
   "source": [
    "# IMPORTAR BIBLIOTECAS\n",
    "from PIL import Image\n",
    "from pyzbar.pyzbar import decode\n",
    "import cv2 \n",
    "import numpy as np"
   ]
  },
  {
   "cell_type": "code",
   "execution_count": null,
   "id": "38e6c47a-0886-4881-a3ee-4992ab455c6e",
   "metadata": {},
   "outputs": [],
   "source": [
    "# OPÇÃO 1 - CAPTURAR PELA WEBCAM DO COMPUTADOR\n",
    "captura = cv2.VideoCapture(0) # Câmera 1"
   ]
  },
  {
   "cell_type": "code",
   "execution_count": 3,
   "id": "5626ed36-d94b-4e6c-a9db-91587f911bee",
   "metadata": {},
   "outputs": [
    {
     "data": {
      "text/plain": [
       "True"
      ]
     },
     "execution_count": 3,
     "metadata": {},
     "output_type": "execute_result"
    }
   ],
   "source": [
    "# OPÇÃO 2 - CAPTURAR PELA CÂMERA DO CELULAR\n",
    "captura = cv2.VideoCapture()\n",
    "ip = \"https://seuIPaqui/video\"\n",
    "captura.open(ip)"
   ]
  },
  {
   "cell_type": "code",
   "execution_count": 4,
   "id": "1f2e214c-4310-46ed-a8b7-6e108833ec03",
   "metadata": {},
   "outputs": [],
   "source": [
    "# MANTER CÂMERA ABERTA\n",
    "while True:\n",
    "    # VÍDEO\n",
    "    retorno, frame = captura.read()\n",
    "    if not retorno:\n",
    "        print(\"Falha ao capturar imagem da câmera.\")\n",
    "        break\n",
    "   \n",
    "    # DETECTAR CÓDIGO DE BARRAS E DESENHAR CAIXAS DELIMITADORAS\n",
    "    cinza_frame = cv2.cvtColor(frame, cv2.COLOR_BGR2GRAY) # AJUDA A MELHORAR DETECÇÃO?\n",
    "    detectados = decode(cinza_frame)\n",
    "    for codigo_barras in detectados:\n",
    "        \n",
    "        codigo_barras_data = codigo_barras.data.decode('utf-8')\n",
    "        codigo_barras_type = codigo_barras.type\n",
    "        \n",
    "        pontos = np.array([codigo_barras.polygon], np.int32)\n",
    "        pontos = pontos.reshape((-1, 1, 2))\n",
    "        cv2.polylines(frame, [pontos], True, (0, 255, 0), 2)\n",
    "\n",
    "        # DESENHAR NÚMERO DO CÓDIGO DE BARRAS\n",
    "        (x, y, w, h) = codigo_barras.rect\n",
    "        cv2.putText(frame, codigo_barras_data, (x, y - 10), cv2.FONT_HERSHEY_DUPLEX, 0.5, (15, 255, 255), 2)\n",
    "        cv2.putText(frame, codigo_barras_type, (x , y - 30), cv2.FONT_HERSHEY_DUPLEX, 0.5, (15, 255, 255), 2)\n",
    "\n",
    "    # VISUALIZAR \n",
    "    cv2.imshow('Codigo de Barras', frame)\n",
    "\n",
    "    # COMANDO PARA FINALIZAR VÍDEO\n",
    "    chave = cv2.waitKey(1)\n",
    "    if chave == 27: #TECLA 27 -> ESC  \n",
    "        break\n",
    "captura.release()\n",
    "cv2.destroyAllWindows()"
   ]
  },
  {
   "cell_type": "code",
   "execution_count": null,
   "id": "dd4c3e95",
   "metadata": {},
   "outputs": [],
   "source": []
  }
 ],
 "metadata": {
  "kernelspec": {
   "display_name": "Python 3 (ipykernel)",
   "language": "python",
   "name": "python3"
  },
  "language_info": {
   "codemirror_mode": {
    "name": "ipython",
    "version": 3
   },
   "file_extension": ".py",
   "mimetype": "text/x-python",
   "name": "python",
   "nbconvert_exporter": "python",
   "pygments_lexer": "ipython3",
   "version": "3.10.9"
  }
 },
 "nbformat": 4,
 "nbformat_minor": 5
}
